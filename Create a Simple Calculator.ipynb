{
 "cells": [
  {
   "cell_type": "code",
   "execution_count": 3,
   "metadata": {},
   "outputs": [
    {
     "name": "stdout",
     "output_type": "stream",
     "text": [
      "Please select a operation:\n",
      " 1. Addition\n",
      "2. Substraction\n",
      "3. Multiplication\n",
      "4. Division\n",
      "5. Average\n",
      "\n",
      "Select a operation from 1,2,3,4,5: 5\n",
      "Enter first number: 89\n",
      "Enter second number: 1\n",
      "( 89 + 1 ) / 2 =  45.0\n"
     ]
    }
   ],
   "source": [
    "# python program to create a simple calculator\n",
    "\n",
    "# 3 steps to build calculator program\n",
    "#   1. functions for operations \n",
    "#   2. user input \n",
    "#   3. print result \n",
    "\n",
    "# step-1: create functions:\n",
    "# Function to add two numbers \n",
    "def add(num1,num2):\n",
    "     return num1 + num2 \n",
    "\n",
    "# Function to substract two numbers \n",
    "def sub(num1,num2):\n",
    "     return num1 - num2 \n",
    "\n",
    "# Function to multiply two numbers \n",
    "def multiply(num1,num2):\n",
    "     return num1 * num2  \n",
    "\n",
    "# Function to divide two numbers \n",
    "def divide(num1,num2):\n",
    "     return num1 / num2 \n",
    "\n",
    "# Function to average two numbers \n",
    "def avg(num1,num2):\n",
    "     return (num1 + num2)/2  \n",
    "\n",
    "#Step-2: user input \n",
    "print(\"Please select a operation:\\n \" \\\n",
    "      \"1. Addition\\n\" \\\n",
    "      \"2. Substraction\\n\" \\\n",
    "      \"3. Multiplication\\n\" \\\n",
    "      \"4. Division\\n\" \\\n",
    "      \"5. Average\\n\") \n",
    "\n",
    "select = int(input(\"Select a operation from 1,2,3,4,5: \")) \n",
    "\n",
    "number1 = int(input(\"Enter first number: \"))\n",
    "number2 = int(input(\"Enter second number: \"))\n",
    "\n",
    "#Step-3: Print the result \n",
    "\n",
    "if select == 1:\n",
    "     print(number1, \"+\", number2, \"= \", \\\n",
    "           add(number1, number2))\n",
    "elif select == 2:\n",
    "    print(number1, \"-\", number2, \"= \", \\\n",
    "           sub(number1, number2)) \n",
    "     \n",
    "elif select == 3:\n",
    "     print(number1, \"*\", number2, \"= \", \\\n",
    "           multiply(number1, number2))\n",
    "elif select == 4:\n",
    "     print(number1, \"/\", number2, \"= \", \\\n",
    "           divide(number1, number2))\n",
    "\n",
    "elif select == 5:\n",
    "     print(\"(\",number1, \"+\", number2, \")\", \"/\", \"2\", \"= \", \\\n",
    "           avg(number1, number2)) \n",
    "    \n",
    "else:\n",
    "     print(\"Invalid operation! Pls select again!\")"
   ]
  },
  {
   "cell_type": "code",
   "execution_count": null,
   "metadata": {},
   "outputs": [],
   "source": []
  }
 ],
 "metadata": {
  "kernelspec": {
   "display_name": "Python 3",
   "language": "python",
   "name": "python3"
  },
  "language_info": {
   "codemirror_mode": {
    "name": "ipython",
    "version": 3
   },
   "file_extension": ".py",
   "mimetype": "text/x-python",
   "name": "python",
   "nbconvert_exporter": "python",
   "pygments_lexer": "ipython3",
   "version": "3.7.3"
  }
 },
 "nbformat": 4,
 "nbformat_minor": 2
}
